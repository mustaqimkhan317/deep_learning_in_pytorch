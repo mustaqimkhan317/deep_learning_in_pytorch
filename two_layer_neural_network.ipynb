{
  "nbformat": 4,
  "nbformat_minor": 0,
  "metadata": {
    "colab": {
      "provenance": [],
      "toc_visible": true,
      "authorship_tag": "ABX9TyMqGZxuxPlsyHIUC1MAmP56",
      "include_colab_link": true
    },
    "kernelspec": {
      "name": "python3",
      "display_name": "Python 3"
    },
    "language_info": {
      "name": "python"
    },
    "gpuClass": "standard",
    "accelerator": "GPU"
  },
  "cells": [
    {
      "cell_type": "markdown",
      "metadata": {
        "id": "view-in-github",
        "colab_type": "text"
      },
      "source": [
        "<a href=\"https://colab.research.google.com/github/mustaqimkhan317/deep_learning_in_pytorch/blob/main/two_layer_neural_network.ipynb\" target=\"_parent\"><img src=\"https://colab.research.google.com/assets/colab-badge.svg\" alt=\"Open In Colab\"/></a>"
      ]
    },
    {
      "cell_type": "code",
      "execution_count": 19,
      "metadata": {
        "id": "q2dnoDL8HjM3"
      },
      "outputs": [],
      "source": [
        "# importing necessary packages\n",
        "import torch\n",
        "import torch.nn as nn\n",
        "import torchvision\n",
        "import torchvision.transforms as transforms"
      ]
    },
    {
      "cell_type": "code",
      "source": [
        "# setting hyperparameters\n",
        "batch_size = 64\n",
        "input_size = 784\n",
        "hidden_size = 400\n",
        "num_classes = 10\n",
        "num_epochs = 3\n",
        "learning_rate = 0.001"
      ],
      "metadata": {
        "id": "2W30bVzgM-9s"
      },
      "execution_count": 20,
      "outputs": []
    },
    {
      "cell_type": "code",
      "source": [
        "# downalod dataset \n",
        "# MNIST dataset\n",
        "train_dataset = torchvision.datasets.MNIST(root='./data',\n",
        "                                           train=True,\n",
        "                                           transform=transforms.ToTensor(),\n",
        "                                           download=True)\n",
        "\n",
        "test_dataset = torchvision.datasets.MNIST(root='./data',\n",
        "                                           train=False,\n",
        "                                           transform=transforms.ToTensor(),\n",
        "                                           download=False)\n",
        "\n",
        "# dataloader\n",
        "train_loader = torch.utils.data.DataLoader(dataset=train_dataset,\n",
        "                                           batch_size=batch_size,\n",
        "                                           shuffle=True)\n",
        "\n",
        "test_loader = torch.utils.data.DataLoader(dataset=test_dataset,\n",
        "                                           batch_size=batch_size,\n",
        "                                           shuffle=False)"
      ],
      "metadata": {
        "id": "qQrB_Tp6L7cE"
      },
      "execution_count": 21,
      "outputs": []
    },
    {
      "cell_type": "code",
      "source": [
        "# adding cuda device\n",
        "device = torch.device('cuda' if torch.cuda.is_available() else 'cpu')\n",
        "device"
      ],
      "metadata": {
        "colab": {
          "base_uri": "https://localhost:8080/"
        },
        "id": "ZIPd3Cd5E-al",
        "outputId": "88cf38ac-bd4d-4801-c46e-52e7d8de46f5"
      },
      "execution_count": 22,
      "outputs": [
        {
          "output_type": "execute_result",
          "data": {
            "text/plain": [
              "device(type='cuda')"
            ]
          },
          "metadata": {},
          "execution_count": 22
        }
      ]
    },
    {
      "cell_type": "code",
      "source": [
        "# model class\n",
        "class NeuralNet(nn.Module):\n",
        "  def __init__(self, input_size, hidden_size, num_classes):\n",
        "    super(NeuralNet, self).__init__()\n",
        "    self.input_size = input_size\n",
        "    self.l1 = nn.Linear(input_size, hidden_size)\n",
        "    self.relu = nn.ReLU()\n",
        "    self.l2 = nn.Linear(hidden_size, num_classes)\n",
        "\n",
        "  def forward(self, x):\n",
        "    out = self.l1(x)\n",
        "    out = self.relu(out)\n",
        "    out = self.l2(out) \n",
        "\n",
        "    return out"
      ],
      "metadata": {
        "id": "WYcB5sZkNXz6"
      },
      "execution_count": 23,
      "outputs": []
    },
    {
      "cell_type": "code",
      "source": [
        "# initialize model\n",
        "model = NeuralNet(input_size, hidden_size, num_classes).to(device)\n",
        "model"
      ],
      "metadata": {
        "colab": {
          "base_uri": "https://localhost:8080/"
        },
        "id": "_DcycbYQO4GV",
        "outputId": "8c624013-602c-4d34-9168-859840f81173"
      },
      "execution_count": 24,
      "outputs": [
        {
          "output_type": "execute_result",
          "data": {
            "text/plain": [
              "NeuralNet(\n",
              "  (l1): Linear(in_features=784, out_features=400, bias=True)\n",
              "  (relu): ReLU()\n",
              "  (l2): Linear(in_features=400, out_features=10, bias=True)\n",
              ")"
            ]
          },
          "metadata": {},
          "execution_count": 24
        }
      ]
    },
    {
      "cell_type": "code",
      "source": [
        "# initialize optimizer\n",
        "criterion = nn.CrossEntropyLoss()\n",
        "optimizer = torch.optim.Adam(model.parameters(), lr=learning_rate)"
      ],
      "metadata": {
        "id": "tc6tx3-7QQ-z"
      },
      "execution_count": 25,
      "outputs": []
    },
    {
      "cell_type": "code",
      "source": [
        "# training the model\n",
        "n_total_steps = len(train_loader)\n",
        "\n",
        "for epoch in range(num_epochs):\n",
        "  for i, (images, labels) in enumerate(train_loader):\n",
        "    # original size = [64, 1, 28, 28]\n",
        "    # reshaped size = [64, 784]\n",
        "    images = images.reshape(-1, 28*28).to(device)\n",
        "    labels = labels.to(device)\n",
        "\n",
        "    # forward pass\n",
        "    output = model(images)\n",
        "\n",
        "    # calculating loss\n",
        "    loss = criterion(output, labels)\n",
        "\n",
        "    # backward and optimize\n",
        "    optimizer.zero_grad()\n",
        "    loss.backward()\n",
        "    optimizer.step()\n",
        "\n",
        "    if (i+1) % 100 == 0:\n",
        "            print (f'Epoch [{epoch+1}/{num_epochs}], Step [{i+1}/{n_total_steps}], Loss: {loss.item():.4f}')"
      ],
      "metadata": {
        "colab": {
          "base_uri": "https://localhost:8080/"
        },
        "id": "ckf4QCaXPIC5",
        "outputId": "abe74c7e-e66b-4606-9403-75bfb4cb374b"
      },
      "execution_count": 26,
      "outputs": [
        {
          "output_type": "stream",
          "name": "stdout",
          "text": [
            "Epoch [1/3], Step [100/938], Loss: 0.5118\n",
            "Epoch [1/3], Step [200/938], Loss: 0.2242\n",
            "Epoch [1/3], Step [300/938], Loss: 0.3865\n",
            "Epoch [1/3], Step [400/938], Loss: 0.1957\n",
            "Epoch [1/3], Step [500/938], Loss: 0.2689\n",
            "Epoch [1/3], Step [600/938], Loss: 0.1662\n",
            "Epoch [1/3], Step [700/938], Loss: 0.2177\n",
            "Epoch [1/3], Step [800/938], Loss: 0.1959\n",
            "Epoch [1/3], Step [900/938], Loss: 0.2168\n",
            "Epoch [2/3], Step [100/938], Loss: 0.1896\n",
            "Epoch [2/3], Step [200/938], Loss: 0.1098\n",
            "Epoch [2/3], Step [300/938], Loss: 0.2225\n",
            "Epoch [2/3], Step [400/938], Loss: 0.1329\n",
            "Epoch [2/3], Step [500/938], Loss: 0.1240\n",
            "Epoch [2/3], Step [600/938], Loss: 0.1703\n",
            "Epoch [2/3], Step [700/938], Loss: 0.0998\n",
            "Epoch [2/3], Step [800/938], Loss: 0.0709\n",
            "Epoch [2/3], Step [900/938], Loss: 0.0869\n",
            "Epoch [3/3], Step [100/938], Loss: 0.0369\n",
            "Epoch [3/3], Step [200/938], Loss: 0.0636\n",
            "Epoch [3/3], Step [300/938], Loss: 0.0762\n",
            "Epoch [3/3], Step [400/938], Loss: 0.0145\n",
            "Epoch [3/3], Step [500/938], Loss: 0.1227\n",
            "Epoch [3/3], Step [600/938], Loss: 0.0508\n",
            "Epoch [3/3], Step [700/938], Loss: 0.0514\n",
            "Epoch [3/3], Step [800/938], Loss: 0.0544\n",
            "Epoch [3/3], Step [900/938], Loss: 0.0360\n"
          ]
        }
      ]
    },
    {
      "cell_type": "code",
      "source": [
        "# Test the model\n",
        "# In test phase, we don't need to compute gradients (for memory efficiency)\n",
        "with torch.no_grad():\n",
        "    n_correct = 0\n",
        "    n_samples = 0\n",
        "    for images, labels in test_loader:\n",
        "        images = images.reshape(-1, 28*28).to(device)\n",
        "        labels = labels.to(device)\n",
        "        outputs = model(images)\n",
        "        # max returns (value ,index)\n",
        "        _, predicted = torch.max(outputs.data, 1)\n",
        "        n_samples += labels.size(0)\n",
        "        n_correct += (predicted == labels).sum().item()\n",
        "\n",
        "    acc = 100.0 * n_correct / n_samples\n",
        "    print(f'Accuracy of the network on the 10000 test images: {acc} %')"
      ],
      "metadata": {
        "colab": {
          "base_uri": "https://localhost:8080/"
        },
        "id": "BPKm07AfZcau",
        "outputId": "de278bf3-dcb9-4a5c-95b8-479bf0f7c7b9"
      },
      "execution_count": 27,
      "outputs": [
        {
          "output_type": "stream",
          "name": "stdout",
          "text": [
            "Accuracy of the network on the 10000 test images: 97.63 %\n"
          ]
        }
      ]
    },
    {
      "cell_type": "code",
      "source": [],
      "metadata": {
        "id": "q-CwafRedSZ4"
      },
      "execution_count": 27,
      "outputs": []
    }
  ]
}