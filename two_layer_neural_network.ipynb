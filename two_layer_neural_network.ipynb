{
  "nbformat": 4,
  "nbformat_minor": 0,
  "metadata": {
    "colab": {
      "provenance": [],
      "toc_visible": true
    },
    "kernelspec": {
      "name": "python3",
      "display_name": "Python 3"
    },
    "language_info": {
      "name": "python"
    },
    "gpuClass": "standard"
  },
  "cells": [
    {
      "cell_type": "code",
      "execution_count": 17,
      "metadata": {
        "id": "q2dnoDL8HjM3"
      },
      "outputs": [],
      "source": [
        "# importing necessary packages\n",
        "import torch\n",
        "import torch.nn as nn\n",
        "import torchvision\n",
        "import torchvision.transforms as transforms"
      ]
    },
    {
      "cell_type": "code",
      "source": [
        "# setting hyperparameters\n",
        "batch_size = 64\n",
        "input_size = 784\n",
        "hidden_size = 400\n",
        "num_classes = 10\n",
        "num_epochs = 3\n",
        "learning_rate = 0.001"
      ],
      "metadata": {
        "id": "2W30bVzgM-9s"
      },
      "execution_count": 18,
      "outputs": []
    },
    {
      "cell_type": "code",
      "source": [
        "# downalod dataset \n",
        "# MNIST dataset\n",
        "train_dataset = torchvision.datasets.MNIST(root='./data',\n",
        "                                           train=True,\n",
        "                                           transform=transforms.ToTensor(),\n",
        "                                           download=True)\n",
        "\n",
        "test_dataset = torchvision.datasets.MNIST(root='./data',\n",
        "                                           train=False,\n",
        "                                           transform=transforms.ToTensor(),\n",
        "                                           download=False)\n",
        "\n",
        "# dataloader\n",
        "train_loader = torch.utils.data.DataLoader(dataset=train_dataset,\n",
        "                                           batch_size=batch_size,\n",
        "                                           shuffle=True)\n",
        "\n",
        "test_loader = torch.utils.data.DataLoader(dataset=test_dataset,\n",
        "                                           batch_size=batch_size,\n",
        "                                           shuffle=False)"
      ],
      "metadata": {
        "id": "qQrB_Tp6L7cE"
      },
      "execution_count": 19,
      "outputs": []
    },
    {
      "cell_type": "code",
      "source": [
        "# adding cuda device\n",
        "device = torch.device('cuda' if torch.cuda.is_available() else 'cpu')\n",
        "device"
      ],
      "metadata": {
        "colab": {
          "base_uri": "https://localhost:8080/"
        },
        "id": "ZIPd3Cd5E-al",
        "outputId": "195acf24-0391-4db1-edd6-2b3bfef53a67"
      },
      "execution_count": 20,
      "outputs": [
        {
          "output_type": "execute_result",
          "data": {
            "text/plain": [
              "device(type='cuda')"
            ]
          },
          "metadata": {},
          "execution_count": 20
        }
      ]
    },
    {
      "cell_type": "code",
      "source": [
        "# model class\n",
        "class NeuralNet(nn.Module):\n",
        "  def __init__(self, input_size, hidden_size, num_classes):\n",
        "    super(NeuralNet, self).__init__()\n",
        "    self.input_size = input_size\n",
        "    self.l1 = nn.Linear(input_size, hidden_size)\n",
        "    self.relu = nn.ReLU()\n",
        "    self.l2 = nn.Linear(hidden_size, num_classes)\n",
        "\n",
        "  def forward(self, x):\n",
        "    out = self.l1(x)\n",
        "    out = self.relu(out)\n",
        "    out = self.l2(out) \n",
        "\n",
        "    return out"
      ],
      "metadata": {
        "id": "WYcB5sZkNXz6"
      },
      "execution_count": 21,
      "outputs": []
    },
    {
      "cell_type": "code",
      "source": [
        "# initialize model\n",
        "model = NeuralNet(input_size, hidden_size, num_classes).to(device)\n",
        "model"
      ],
      "metadata": {
        "colab": {
          "base_uri": "https://localhost:8080/"
        },
        "id": "_DcycbYQO4GV",
        "outputId": "c35052e6-b879-4edb-f70a-1a4e1bfcb5de"
      },
      "execution_count": 22,
      "outputs": [
        {
          "output_type": "execute_result",
          "data": {
            "text/plain": [
              "NeuralNet(\n",
              "  (l1): Linear(in_features=784, out_features=400, bias=True)\n",
              "  (relu): ReLU()\n",
              "  (l2): Linear(in_features=400, out_features=10, bias=True)\n",
              ")"
            ]
          },
          "metadata": {},
          "execution_count": 22
        }
      ]
    },
    {
      "cell_type": "code",
      "source": [
        "# initialize optimizer\n",
        "criterion = nn.CrossEntropyLoss()\n",
        "optimizer = torch.optim.Adam(model.parameters(), lr=learning_rate)"
      ],
      "metadata": {
        "id": "tc6tx3-7QQ-z"
      },
      "execution_count": 23,
      "outputs": []
    },
    {
      "cell_type": "code",
      "source": [
        "# training the model\n",
        "n_total_steps = len(train_loader)\n",
        "\n",
        "for epoch in range(num_epochs):\n",
        "  for i, (images, labels) in enumerate(train_loader):\n",
        "    # original size = [64, 1, 28, 28]\n",
        "    # reshaped size = [64, 784]\n",
        "    images = images.reshape(-1, 28*28).to(device)\n",
        "    labels = labels.to(device)\n",
        "\n",
        "    # forward pass\n",
        "    output = model(images)\n",
        "\n",
        "    # calculating loss\n",
        "    loss = criterion(output, labels)\n",
        "\n",
        "    # backward and optimize\n",
        "    optimizer.zero_grad()\n",
        "    loss.backward()\n",
        "    optimizer.step()\n",
        "\n",
        "    if (i+1) % 100 == 0:\n",
        "            print (f'Epoch [{epoch+1}/{num_epochs}], Step [{i+1}/{n_total_steps}], Loss: {loss.item():.4f}')"
      ],
      "metadata": {
        "colab": {
          "base_uri": "https://localhost:8080/"
        },
        "id": "ckf4QCaXPIC5",
        "outputId": "e6a39dfd-3b29-45a8-f701-6907543c0488"
      },
      "execution_count": 24,
      "outputs": [
        {
          "output_type": "stream",
          "name": "stdout",
          "text": [
            "Epoch [1/3], Step [100/938], Loss: 0.6802\n",
            "Epoch [1/3], Step [200/938], Loss: 0.1924\n",
            "Epoch [1/3], Step [300/938], Loss: 0.2298\n",
            "Epoch [1/3], Step [400/938], Loss: 0.1110\n",
            "Epoch [1/3], Step [500/938], Loss: 0.2203\n",
            "Epoch [1/3], Step [600/938], Loss: 0.1338\n",
            "Epoch [1/3], Step [700/938], Loss: 0.2731\n",
            "Epoch [1/3], Step [800/938], Loss: 0.1698\n",
            "Epoch [1/3], Step [900/938], Loss: 0.1887\n",
            "Epoch [2/3], Step [100/938], Loss: 0.1498\n",
            "Epoch [2/3], Step [200/938], Loss: 0.1316\n",
            "Epoch [2/3], Step [300/938], Loss: 0.0720\n",
            "Epoch [2/3], Step [400/938], Loss: 0.0851\n",
            "Epoch [2/3], Step [500/938], Loss: 0.0534\n",
            "Epoch [2/3], Step [600/938], Loss: 0.1417\n",
            "Epoch [2/3], Step [700/938], Loss: 0.0899\n",
            "Epoch [2/3], Step [800/938], Loss: 0.1242\n",
            "Epoch [2/3], Step [900/938], Loss: 0.0164\n",
            "Epoch [3/3], Step [100/938], Loss: 0.0506\n",
            "Epoch [3/3], Step [200/938], Loss: 0.0505\n",
            "Epoch [3/3], Step [300/938], Loss: 0.0182\n",
            "Epoch [3/3], Step [400/938], Loss: 0.0263\n",
            "Epoch [3/3], Step [500/938], Loss: 0.0435\n",
            "Epoch [3/3], Step [600/938], Loss: 0.0569\n",
            "Epoch [3/3], Step [700/938], Loss: 0.0410\n",
            "Epoch [3/3], Step [800/938], Loss: 0.0766\n",
            "Epoch [3/3], Step [900/938], Loss: 0.0178\n"
          ]
        }
      ]
    }
  ]
}